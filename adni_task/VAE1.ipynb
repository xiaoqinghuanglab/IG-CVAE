version https://git-lfs.github.com/spec/v1
oid sha256:dc1305043b30e04daf52842e97c601d8145bbb261cec206d1b31c23f1703f3f9
size 691393
