version https://git-lfs.github.com/spec/v1
oid sha256:ba61a7ce3a98fcb87b3e69dd1b65d5477fcab7814a20d86d7aee593aa507dcda
size 19702
